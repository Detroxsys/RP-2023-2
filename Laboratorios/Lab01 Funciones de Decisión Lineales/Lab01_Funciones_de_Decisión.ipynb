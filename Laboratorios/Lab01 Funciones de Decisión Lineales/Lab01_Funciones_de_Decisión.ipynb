{
  "cells": [
    {
      "cell_type": "markdown",
      "metadata": {},
      "source": [
        "<a target=\"_blank\" href=\"https://colab.research.google.com/github/Detroxsys/RP-2023-2/blob/main/Laboratorios/Lab01%20Funciones%20de%20Decisi%C3%B3n%20Lineales/Lab01_Funciones_de_Decisi%C3%B3n.ipynb\">\n",
        "  <img src=\"https://colab.research.google.com/assets/colab-badge.svg\" alt=\"Open In Colab\"/>\n",
        "</a>"
      ]
    },
    {
      "cell_type": "markdown",
      "metadata": {
        "id": "qeik1o2dvAFg"
      },
      "source": [
        "# Laboratorio 01: Clasificación utilizando Funciones de Decisión\n"
      ]
    },
    {
      "cell_type": "markdown",
      "metadata": {
        "id": "QlhWN5gAGhV0"
      },
      "source": [
        "En cada uno de los siguientes ejercicios se genero un dataset para clasificar utilizando  [Samples generator](https://scikit-learn.org/stable/modules/classes.html#samples-generator) de la biblioteca Sklearn. Se debe encontrar una función o funciones de decisión que permitan separar completamente todas las clases mostradas. Considerando lo siguiente: \n",
        "\n",
        "1.   De ser posible utilizar funciones lineales en caso contrario argumentar el por qué es necesaria una función no lineal. \n",
        "2.   Utilizar el menor número de funciones de decisión posible. \n",
        "3. De ser posible utilizar separación absoluta antes que separación por pares. De no ser posible argumentar el por qué. \n",
        "4. Guiarse del ejemplo para solucionar cada caso. "
      ]
    },
    {
      "cell_type": "code",
      "execution_count": 1,
      "metadata": {
        "id": "i8lmnjI03wGi"
      },
      "outputs": [],
      "source": [
        "#LIBRERÍAS \n",
        "# Manipulación de arreglos numéricos\n",
        "import numpy as np \n",
        "# Para construcción de datasets \n",
        "from sklearn.datasets import make_blobs, make_circles, make_moons\n",
        "\n",
        "# Métrica para evaluar la clasificación\n",
        "from sklearn.metrics import accuracy_score\n",
        "\n",
        "#Para graficar \n",
        "import matplotlib.pyplot as plt\n",
        "import seaborn as sns\n",
        "import plotly.express as px\n",
        "sns.set_style('darkgrid')"
      ]
    },
    {
      "cell_type": "markdown",
      "metadata": {
        "id": "KhKnkygZyfIT"
      },
      "source": [
        "## Ejemplo 01"
      ]
    },
    {
      "cell_type": "markdown",
      "metadata": {
        "id": "fRc3EcSqH1jR"
      },
      "source": [
        "En este ejemplo se tiene una muestra de 100 observaciones divididas en dos clases. "
      ]
    },
    {
      "cell_type": "code",
      "execution_count": 2,
      "metadata": {
        "colab": {
          "base_uri": "https://localhost:8080/",
          "height": 282
        },
        "id": "GXDtJKeWuYGL",
        "outputId": "a4739fc8-c8ca-4c33-fd43-b9421299c09c"
      },
      "outputs": [
        {
          "data": {
            "text/plain": [
              "<AxesSubplot:>"
            ]
          },
          "execution_count": 2,
          "metadata": {},
          "output_type": "execute_result"
        },
        {
          "data": {
            "image/png": "[encoded data removed]",
            "text/plain": [
              "<Figure size 432x288 with 1 Axes>"
            ]
          },
          "metadata": {},
          "output_type": "display_data"
        }
      ],
      "source": [
        "#Conjunto de Datos\n",
        "X, y = make_blobs(n_samples=100, n_features=2, centers=2, cluster_std =0.6, random_state=0)\n",
        "#X : Numpy array con los patrones de cada clase. \n",
        "#y : Etiqueta a la que pertenece cada patron. \n",
        "#Graficamos\n",
        "sns.scatterplot(x=X[:,0], y=X[:,1], hue=y, palette = 'bright')"
      ]
    },
    {
      "cell_type": "markdown",
      "metadata": {
        "id": "RdGDCt31IAgz"
      },
      "source": [
        "Notamos que las clases pueden ser separadas por medio de una recta. En particular una recta que funciona es: \n",
        "\n",
        "$$x_1 = 0.7x_0 +1.3$$\n",
        "\n",
        "La función de decisión queda definida como: \n",
        "\n",
        "$$d(\\overline{x}) = -1.3 -0.7x_0 +x_1$$\n",
        "\n",
        "Si consideramos que las clases son $C_0$ (azul) y $C_1$ (naranja). Entonces se tiene la siguiente regla de decisión: \n",
        "\n",
        "\n",
        "\n",
        "*   $d(\\overline{x}) < 0$ para todo $\\overline{x} \\in C_1$\n",
        "*   $d(\\overline{x}) > 0$ para todo $\\overline{x} \\in C_2$ \n",
        "\n"
      ]
    },
    {
      "cell_type": "code",
      "execution_count": 3,
      "metadata": {
        "id": "TGnHexj31oWL"
      },
      "outputs": [],
      "source": [
        "#Definiendo la función de decisión\n",
        "def f1(x): \n",
        "  \"\"\"\n",
        "    Función de Decisión para el ejemplo 01\n",
        "      Parámetros:\n",
        "          x: Numpy array de dimensión dos. \n",
        "  \"\"\"\n",
        "  return -1.3 -0.7*x[0] + x[1]\n",
        "\n",
        "def classifier(X, df): \n",
        "  \"\"\"\n",
        "    Función que clasifica la muestra de este ejemplo acorde a la función de decisión\n",
        "      Parámetros: \n",
        "        X: Numpy ndarray con todos los patrones a considerar\n",
        "        df: Función de clasificación. \n",
        "  \"\"\"\n",
        "  classif = [] #Arreglo con la clasificación resultante de todos los patrones\n",
        "  for x in X: \n",
        "    if df(x)<0: \n",
        "      classif.append(1)\n",
        "    else: \n",
        "      classif.append(0)\n",
        "  return classif"
      ]
    },
    {
      "cell_type": "markdown",
      "metadata": {
        "id": "gAnT33AVKK2-"
      },
      "source": [
        "Una forma rápida de verificar que la respuesta es correcta es utilizando **accuracy_score** y compararlo con las clases que estan en el arreglo **y**"
      ]
    },
    {
      "cell_type": "code",
      "execution_count": 4,
      "metadata": {
        "colab": {
          "base_uri": "https://localhost:8080/"
        },
        "id": "S3kTnSL74ky-",
        "outputId": "9abd5e40-1d9e-43f1-8a11-7d457eea85c1"
      },
      "outputs": [
        {
          "data": {
            "text/plain": [
              "1.0"
            ]
          },
          "execution_count": 4,
          "metadata": {},
          "output_type": "execute_result"
        }
      ],
      "source": [
        "accuracy_score(y, classifier(X, f1))"
      ]
    },
    {
      "cell_type": "markdown",
      "metadata": {
        "id": "1r-Nmqc9Ks77"
      },
      "source": [
        "Finalmente graficamos para ver visualmente como la función separa ambas clases. "
      ]
    },
    {
      "cell_type": "code",
      "execution_count": 5,
      "metadata": {
        "colab": {
          "base_uri": "https://localhost:8080/",
          "height": 282
        },
        "id": "YwKqF52y5Pjt",
        "outputId": "63228bb1-da7a-48ea-b1d8-788b7242e41e"
      },
      "outputs": [
        {
          "name": "stderr",
          "output_type": "stream",
          "text": [
            "C:\\Users\\yeudi\\AppData\\Local\\Temp\\ipykernel_10196\\2619747077.py:5: UserWarning: Ignoring `palette` because no `hue` variable has been assigned.\n",
            "  sns.lineplot(x=x0, y=x1, color='black', palette = 'bright')\n"
          ]
        },
        {
          "data": {
            "text/plain": [
              "<AxesSubplot:>"
            ]
          },
          "execution_count": 5,
          "metadata": {},
          "output_type": "execute_result"
        },
        {
          "data": {
            "image/png": "[encoded data removed]",
            "text/plain": [
              "<Figure size 432x288 with 1 Axes>"
            ]
          },
          "metadata": {},
          "output_type": "display_data"
        }
      ],
      "source": [
        "#Graficamos\n",
        "sns.scatterplot(x=X[:,0], y=X[:,1], hue=y)\n",
        "x0 = np.linspace(np.min(X[:,0])-0.1, np.max(X[:,0])+0.1, 100)\n",
        "x1 = 0.7*x0 +1.3\n",
        "sns.lineplot(x=x0, y=x1, color='black', palette = 'bright')"
      ]
    },
    {
      "cell_type": "markdown",
      "metadata": {
        "id": "gj76kVEs7snh"
      },
      "source": [
        "## Ejercicio 01 (0.5 puntos)"
      ]
    },
    {
      "cell_type": "code",
      "execution_count": 6,
      "metadata": {
        "colab": {
          "base_uri": "https://localhost:8080/",
          "height": 283
        },
        "id": "JQggvyda7tpS",
        "outputId": "4b790c0e-aabd-44af-bc22-ffad9e3ae2f9"
      },
      "outputs": [
        {
          "data": {
            "text/plain": [
              "<AxesSubplot:>"
            ]
          },
          "execution_count": 6,
          "metadata": {},
          "output_type": "execute_result"
        },
        {
          "data": {
            "image/png": "[encoded data removed]",
            "text/plain": [
              "<Figure size 432x288 with 1 Axes>"
            ]
          },
          "metadata": {},
          "output_type": "display_data"
        }
      ],
      "source": [
        "#Conjunto de Datos\n",
        "X, y = make_blobs(n_samples=100, n_features=2, centers=2, cluster_std =1.3, random_state=31)\n",
        "#Graficamos\n",
        "sns.scatterplot(x=X[:,0], y=X[:,1], hue=y, palette = 'bright')"
      ]
    },
    {
      "cell_type": "markdown",
      "metadata": {
        "id": "CV_YsmLA8Akr"
      },
      "source": [
        "## Ejercicio 02 (1.5 puntos)"
      ]
    },
    {
      "cell_type": "code",
      "execution_count": 7,
      "metadata": {
        "colab": {
          "base_uri": "https://localhost:8080/",
          "height": 282
        },
        "id": "lw48X84E8ALp",
        "outputId": "e313b6c9-ba1e-4417-e13b-dea5a2cae4fb"
      },
      "outputs": [
        {
          "data": {
            "text/plain": [
              "<AxesSubplot:>"
            ]
          },
          "execution_count": 7,
          "metadata": {},
          "output_type": "execute_result"
        },
        {
          "data": {
            "image/png": "[encoded data removed]",
            "text/plain": [
              "<Figure size 432x288 with 1 Axes>"
            ]
          },
          "metadata": {},
          "output_type": "display_data"
        }
      ],
      "source": [
        "#Conjunto de Datos\n",
        "X, y = make_blobs(n_samples=300, n_features=2, centers=3, cluster_std =0.7, random_state=42)\n",
        "#Graficamos\n",
        "sns.scatterplot(x=X[:,0], y=X[:,1], hue=y, palette = 'bright')"
      ]
    },
    {
      "cell_type": "markdown",
      "metadata": {
        "id": "CKFkRL8W8wKe"
      },
      "source": [
        "## Ejercicio 03 (1.5 puntos)"
      ]
    },
    {
      "cell_type": "code",
      "execution_count": 8,
      "metadata": {
        "colab": {
          "base_uri": "https://localhost:8080/",
          "height": 282
        },
        "id": "O32Dn9bG8xpr",
        "outputId": "1732299c-f3ba-4528-bbbe-dfc50c3322d9"
      },
      "outputs": [
        {
          "data": {
            "text/plain": [
              "<AxesSubplot:>"
            ]
          },
          "execution_count": 8,
          "metadata": {},
          "output_type": "execute_result"
        },
        {
          "data": {
            "image/png": "[encoded data removed]",
            "text/plain": [
              "<Figure size 432x288 with 1 Axes>"
            ]
          },
          "metadata": {},
          "output_type": "display_data"
        }
      ],
      "source": [
        "#Conjunto de Datos\n",
        "X, y = make_blobs(n_samples=300, n_features=2, centers=4, cluster_std =0.7, random_state=42)\n",
        "#Graficamos\n",
        "sns.scatterplot(x=X[:,0], y=X[:,1], hue=y, palette = 'bright')"
      ]
    },
    {
      "cell_type": "markdown",
      "metadata": {
        "id": "seS1_-U39QuF"
      },
      "source": [
        "## Ejercicio 04 (2 puntos)"
      ]
    },
    {
      "cell_type": "code",
      "execution_count": 9,
      "metadata": {
        "colab": {
          "base_uri": "https://localhost:8080/",
          "height": 282
        },
        "id": "-SkwCSNI9OvG",
        "outputId": "fe9e7654-6c52-47a8-c8cd-546b98b95408"
      },
      "outputs": [
        {
          "data": {
            "text/plain": [
              "<AxesSubplot:>"
            ]
          },
          "execution_count": 9,
          "metadata": {},
          "output_type": "execute_result"
        },
        {
          "data": {
            "image/png": "[encoded data removed]",
            "text/plain": [
              "<Figure size 432x288 with 1 Axes>"
            ]
          },
          "metadata": {},
          "output_type": "display_data"
        }
      ],
      "source": [
        "#Conjunto de Datos\n",
        "X, y = make_circles(n_samples=300, factor=0.65, random_state=31)\n",
        "#Graficamos\n",
        "sns.scatterplot(x=X[:,0], y=X[:,1], hue=y, palette = 'bright')"
      ]
    },
    {
      "cell_type": "markdown",
      "metadata": {
        "id": "HFXpCtaXArkX"
      },
      "source": [
        "## Ejercicio 05 (3 puntos)"
      ]
    },
    {
      "cell_type": "code",
      "execution_count": 10,
      "metadata": {
        "colab": {
          "base_uri": "https://localhost:8080/",
          "height": 282
        },
        "id": "G95dqh5wAsfo",
        "outputId": "6b523741-f717-4fbe-de2a-1cb19724cda8"
      },
      "outputs": [
        {
          "data": {
            "text/plain": [
              "<AxesSubplot:>"
            ]
          },
          "execution_count": 10,
          "metadata": {},
          "output_type": "execute_result"
        },
        {
          "data": {
            "image/png": "[encoded data removed]",
            "text/plain": [
              "<Figure size 432x288 with 1 Axes>"
            ]
          },
          "metadata": {},
          "output_type": "display_data"
        }
      ],
      "source": [
        "#Conjunto de Datos\n",
        "X, y = make_moons(n_samples=150, noise=0.1, random_state=42)\n",
        "#Graficamos\n",
        "sns.scatterplot(x=X[:,0], y=X[:,1], hue=y, palette = 'bright')"
      ]
    },
    {
      "cell_type": "markdown",
      "metadata": {
        "id": "RyK3h-8kEUk-"
      },
      "source": [
        "## Ejercicio 06 (1.5 puntos)"
      ]
    },
    {
      "cell_type": "code",
      "execution_count": 11,
      "metadata": {
        "colab": {
          "base_uri": "https://localhost:8080/",
          "height": 542
        },
        "id": "rDiVFU3LET-o",
        "outputId": "829ff225-3cd5-4cb3-929c-fb6b6d01b216"
      },
      "outputs": [
        {
          "data": {
            "application/vnd.plotly.v1+json": {
              "config": {
                "plotlyServerURL": "https://plot.ly"
              },
              "data": [
                {
                  "hovertemplate": "color=1<br>x=%{x}<br>y=%{y}<br>z=%{z}<extra></extra>",
                  "legendgroup": "1",
                  "marker": {
                    "color": "#636efa",
                    "symbol": "circle"
                  },
                  "mode": "markers",
                  "name": "1",
                  "scene": "scene",
                  "showlegend": true,
                  "type": "scatter3d",
                  "x": [
                    1.5673918778609326,
                    2.1369631742550945,
                    1.326766314894656,
                    0.9949279556870644,
                    0.8511807931112298,
                    0.3401656702093805,
                    0.5082703575591045,
                    1.942026547556274,
                    -1.5480798075089326,
                    1.5389127076665599,
                    -0.7154031006448287,
                    -1.3793198675769491,
                    3.168605807433188,
                    1.8988604588397882,
                    1.8264629339796388,
                    1.6618877179595435,
                    0.8544525598876916,
                    0.41606161071905934,
                    1.2482640781752603,
                    0.1364088273751065,
                    1.6564636409262041,
                    0.13915890441271617,
                    -1.232244126493221,
                    2.5949797148853464,
                    0.08582965981167923,
                    1.0538121395907944,
                    0.2406159840760378,
                    0.7481189891917839,
                    0.19648293183048482,
                    0.7089626955934639,
                    -0.8435685771306534,
                    -0.37413701506616714,
                    0.3550117882395233,
                    2.204496431525469,
                    0.9672518535583017,
                    0.3685338296310703,
                    -0.5395158769709114,
                    0.1494676355414014,
                    0.8789412046903522,
                    -0.3171580134333589,
                    0.5700936925960356,
                    1.3366146401420802,
                    0.3846026535283994,
                    3.2772232041466958,
                    0.6343465646044177,
                    -0.24000346602497435,
                    1.4407796150220442,
                    0.3877080878272332,
                    1.6018083386452882,
                    2.165228381199369
                  ],
                  "y": [
                    -2.6766827159835556,
                    -2.714828672421671,
                    -2.2445534538476277,
                    -1.8688788020902243,
                    -2.5784435137639603,
                    -2.1828494555174642,
                    -3.039350435981726,
                    -1.4305976476981954,
                    -0.8391494170919991,
                    -1.966297945411068,
                    -0.9537326491238709,
                    -1.0580194093659943,
                    -1.6484987361776253,
                    -1.177963976511473,
                    -2.6271408953504265,
                    -2.325061129531848,
                    -2.8118068607372226,
                    -2.074739708983441,
                    -0.5843903401289451,
                    0.16311074644847223,
                    -0.09487316070040697,
                    -2.027989767090983,
                    -1.3192475567486939,
                    -2.949046613917699,
                    -1.2189869542743432,
                    -1.87816527208151,
                    -1.7886179159315132,
                    -0.2763235143589404,
                    -1.963903008983583,
                    -0.6779344068868712,
                    -0.8554866962039797,
                    -0.6675861013409126,
                    -2.124051636840295,
                    -1.1782671401045708,
                    -1.3547468214599923,
                    1.007404354230431,
                    0.2970397343581017,
                    -0.7938826229867996,
                    -1.1098371041113153,
                    -1.4695224260348336,
                    -1.86681827917374,
                    -4.576756045291221,
                    -2.565794894731981,
                    -0.056723268841874175,
                    -0.31727845774608077,
                    -0.7771500431121157,
                    -1.6546183461597086,
                    -0.9972743920710969,
                    -3.3055556619638233,
                    -0.3393235619814021
                  ],
                  "z": [
                    4.250142079984094,
                    1.65566674368091,
                    2.4878335486267615,
                    3.0250224442287847,
                    2.5373023080637975,
                    2.8600582354366217,
                    2.209902018216943,
                    1.5699031906199379,
                    1.1556188401657002,
                    3.3249437379653934,
                    2.2845154945387502,
                    3.662481099866393,
                    4.040072244220503,
                    3.7828430196529967,
                    1.21863405487775,
                    1.3961819103985618,
                    3.493486587918052,
                    5.040367520531808,
                    2.201754108702961,
                    3.2328603191146303,
                    2.226985945727386,
                    2.937109336260685,
                    3.494162387550749,
                    3.211638217617224,
                    2.809916832725869,
                    3.678574887510328,
                    1.351415261452338,
                    3.025379725819464,
                    2.7717136259874717,
                    3.8237368306932273,
                    1.610137077770691,
                    4.561815260273629,
                    3.3755373122206906,
                    3.930826967492024,
                    3.1732814011534263,
                    1.7518648563394208,
                    2.787901811691696,
                    2.4110904952057144,
                    5.40312210709306,
                    2.104362965302678,
                    1.0742780743701483,
                    5.069385800408886,
                    2.4668275988103194,
                    2.511782239596435,
                    3.6386723651279804,
                    2.0341316307418973,
                    0.6841293467734788,
                    1.2230055454440354,
                    2.8911235244942937,
                    2.0231815762084997
                  ]
                },
                {
                  "hovertemplate": "color=0<br>x=%{x}<br>y=%{y}<br>z=%{z}<extra></extra>",
                  "legendgroup": "0",
                  "marker": {
                    "color": "#EF553B",
                    "symbol": "circle"
                  },
                  "mode": "markers",
                  "name": "0",
                  "scene": "scene",
                  "showlegend": true,
                  "type": "scatter3d",
                  "x": [
                    2.229610831544126,
                    3.114253382760717,
                    0.49438834677419,
                    1.4018628261916832,
                    0.22297897851215043,
                    -0.421263419787812,
                    -1.2026060364998248,
                    0.49760117165269385,
                    3.5977293308968314,
                    -0.9226407840183497,
                    1.813411576208188,
                    2.0213673378246435,
                    2.050573018678579,
                    0.6437370529136259,
                    2.435294564902229,
                    0.0671876860215791,
                    0.6814663704999766,
                    1.3903381628176874,
                    1.411877462474305,
                    0.6335622932063851,
                    0.9878201013393976,
                    1.4244780984117167,
                    1.3089891660602546,
                    1.3206445503624866,
                    0.2365635859929488,
                    0.9012043126894007,
                    0.23450415182338136,
                    2.2049879954519334,
                    0.7703678435180781,
                    -0.7990175537672517,
                    2.6133474917216546,
                    -0.900627131141019,
                    1.6952505335308918,
                    1.4279284306787048,
                    0.9452696273739747,
                    1.4596009499374856,
                    1.967179214196101,
                    1.146712246813103,
                    1.972919202649419,
                    1.418458378335667,
                    1.033410013922248,
                    0.5327754368759974,
                    3.4730001649328637,
                    -0.8169481031161541,
                    1.7203467029876447,
                    0.8057589761465774,
                    1.3433118386581886,
                    3.0915063076749183,
                    0.778352759152909,
                    2.3295898273469877
                  ],
                  "y": [
                    2.945478925059372,
                    3.8488064486126676,
                    2.925712431393471,
                    3.7419016761226294,
                    3.34591046334832,
                    5.370123706422202,
                    3.921083963189622,
                    6.337977428775666,
                    5.342714763137845,
                    4.498956083927518,
                    4.437629845590501,
                    4.137294398320923,
                    4.695790364340232,
                    3.150379065874588,
                    3.5397626817438876,
                    4.195489550580414,
                    5.186489362824425,
                    3.094446457805776,
                    3.1014196678448336,
                    4.36556920390111,
                    6.268244870744809,
                    3.456879645558542,
                    3.6060330243993297,
                    3.3642820142164926,
                    3.9082788497537946,
                    6.1884643212626935,
                    4.3388009415501765,
                    2.8562891758857165,
                    5.989844463242694,
                    4.069773019213025,
                    6.389265421082031,
                    6.449640262203358,
                    5.254667146193846,
                    4.462235255725356,
                    4.77495238503185,
                    4.4871281723581715,
                    4.816016011151896,
                    4.719766099010781,
                    3.3564390738882173,
                    6.3752530942102705,
                    5.105786945843681,
                    5.64847690486906,
                    2.703985085389749,
                    4.812847808526742,
                    4.938037225724825,
                    4.979274634829078,
                    5.947274307921757,
                    5.932353598026257,
                    3.125959443786793,
                    5.626405161111243
                  ],
                  "z": [
                    2.497843326728182,
                    1.2330672288480442,
                    2.9105069128479792,
                    0.7565721188982246,
                    1.418532890192021,
                    0.764831775807302,
                    2.227251387447256,
                    2.794791754146557,
                    1.0511630734443034,
                    1.6133084916037899,
                    2.5435170774528464,
                    1.9417267844599644,
                    2.832498006444021,
                    0.4932477905360051,
                    1.89066952707244,
                    1.3254414064345599,
                    3.097244685984001,
                    2.3833295130595396,
                    0.4148841694567118,
                    0.7736026965711857,
                    2.19487082340686,
                    2.648441631853877,
                    1.656252238847026,
                    -0.7530212759846089,
                    1.1608066111839785,
                    1.236037217179594,
                    1.3558368352161088,
                    1.5475244561366979,
                    3.6715621683231916,
                    1.0702543041198347,
                    3.351925049708494,
                    1.494650121506059,
                    1.2388859989857917,
                    3.6549683790921508,
                    2.1284364660543624,
                    2.753802102014195,
                    0.36539946652793165,
                    1.078703199039754,
                    4.156338969841816,
                    0.5727325541761867,
                    2.1971487232660296,
                    2.284369997317424,
                    2.1056018904644684,
                    1.0572393206113113,
                    1.8261388902970837,
                    3.0696948601560576,
                    1.829593431290497,
                    4.109582377902105,
                    3.2151644210571284,
                    1.6292080222841303
                  ]
                }
              ],
              "layout": {
                "legend": {
                  "title": {
                    "text": "color"
                  },
                  "tracegroupgap": 0
                },
                "margin": {
                  "t": 60
                },
                "scene": {
                  "domain": {
                    "x": [
                      0,
                      1
                    ],
                    "y": [
                      0,
                      1
                    ]
                  },
                  "xaxis": {
                    "title": {
                      "text": "x"
                    }
                  },
                  "yaxis": {
                    "title": {
                      "text": "y"
                    }
                  },
                  "zaxis": {
                    "title": {
                      "text": "z"
                    }
                  }
                },
                "template": {
                  "data": {
                    "bar": [
                      {
                        "error_x": {
                          "color": "#2a3f5f"
                        },
                        "error_y": {
                          "color": "#2a3f5f"
                        },
                        "marker": {
                          "line": {
                            "color": "#E5ECF6",
                            "width": 0.5
                          },
                          "pattern": {
                            "fillmode": "overlay",
                            "size": 10,
                            "solidity": 0.2
                          }
                        },
                        "type": "bar"
                      }
                    ],
                    "barpolar": [
                      {
                        "marker": {
                          "line": {
                            "color": "#E5ECF6",
                            "width": 0.5
                          },
                          "pattern": {
                            "fillmode": "overlay",
                            "size": 10,
                            "solidity": 0.2
                          }
                        },
                        "type": "barpolar"
                      }
                    ],
                    "carpet": [
                      {
                        "aaxis": {
                          "endlinecolor": "#2a3f5f",
                          "gridcolor": "white",
                          "linecolor": "white",
                          "minorgridcolor": "white",
                          "startlinecolor": "#2a3f5f"
                        },
                        "baxis": {
                          "endlinecolor": "#2a3f5f",
                          "gridcolor": "white",
                          "linecolor": "white",
                          "minorgridcolor": "white",
                          "startlinecolor": "#2a3f5f"
                        },
                        "type": "carpet"
                      }
                    ],
                    "choropleth": [
                      {
                        "colorbar": {
                          "outlinewidth": 0,
                          "ticks": ""
                        },
                        "type": "choropleth"
                      }
                    ],
                    "contour": [
                      {
                        "colorbar": {
                          "outlinewidth": 0,
                          "ticks": ""
                        },
                        "colorscale": [
                          [
                            0,
                            "#0d0887"
                          ],
                          [
                            0.1111111111111111,
                            "#46039f"
                          ],
                          [
                            0.2222222222222222,
                            "#7201a8"
                          ],
                          [
                            0.3333333333333333,
                            "#9c179e"
                          ],
                          [
                            0.4444444444444444,
                            "#bd3786"
                          ],
                          [
                            0.5555555555555556,
                            "#d8576b"
                          ],
                          [
                            0.6666666666666666,
                            "#ed7953"
                          ],
                          [
                            0.7777777777777778,
                            "#fb9f3a"
                          ],
                          [
                            0.8888888888888888,
                            "#fdca26"
                          ],
                          [
                            1,
                            "#f0f921"
                          ]
                        ],
                        "type": "contour"
                      }
                    ],
                    "contourcarpet": [
                      {
                        "colorbar": {
                          "outlinewidth": 0,
                          "ticks": ""
                        },
                        "type": "contourcarpet"
                      }
                    ],
                    "heatmap": [
                      {
                        "colorbar": {
                          "outlinewidth": 0,
                          "ticks": ""
                        },
                        "colorscale": [
                          [
                            0,
                            "#0d0887"
                          ],
                          [
                            0.1111111111111111,
                            "#46039f"
                          ],
                          [
                            0.2222222222222222,
                            "#7201a8"
                          ],
                          [
                            0.3333333333333333,
                            "#9c179e"
                          ],
                          [
                            0.4444444444444444,
                            "#bd3786"
                          ],
                          [
                            0.5555555555555556,
                            "#d8576b"
                          ],
                          [
                            0.6666666666666666,
                            "#ed7953"
                          ],
                          [
                            0.7777777777777778,
                            "#fb9f3a"
                          ],
                          [
                            0.8888888888888888,
                            "#fdca26"
                          ],
                          [
                            1,
                            "#f0f921"
                          ]
                        ],
                        "type": "heatmap"
                      }
                    ],
                    "heatmapgl": [
                      {
                        "colorbar": {
                          "outlinewidth": 0,
                          "ticks": ""
                        },
                        "colorscale": [
                          [
                            0,
                            "#0d0887"
                          ],
                          [
                            0.1111111111111111,
                            "#46039f"
                          ],
                          [
                            0.2222222222222222,
                            "#7201a8"
                          ],
                          [
                            0.3333333333333333,
                            "#9c179e"
                          ],
                          [
                            0.4444444444444444,
                            "#bd3786"
                          ],
                          [
                            0.5555555555555556,
                            "#d8576b"
                          ],
                          [
                            0.6666666666666666,
                            "#ed7953"
                          ],
                          [
                            0.7777777777777778,
                            "#fb9f3a"
                          ],
                          [
                            0.8888888888888888,
                            "#fdca26"
                          ],
                          [
                            1,
                            "#f0f921"
                          ]
                        ],
                        "type": "heatmapgl"
                      }
                    ],
                    "histogram": [
                      {
                        "marker": {
                          "pattern": {
                            "fillmode": "overlay",
                            "size": 10,
                            "solidity": 0.2
                          }
                        },
                        "type": "histogram"
                      }
                    ],
                    "histogram2d": [
                      {
                        "colorbar": {
                          "outlinewidth": 0,
                          "ticks": ""
                        },
                        "colorscale": [
                          [
                            0,
                            "#0d0887"
                          ],
                          [
                            0.1111111111111111,
                            "#46039f"
                          ],
                          [
                            0.2222222222222222,
                            "#7201a8"
                          ],
                          [
                            0.3333333333333333,
                            "#9c179e"
                          ],
                          [
                            0.4444444444444444,
                            "#bd3786"
                          ],
                          [
                            0.5555555555555556,
                            "#d8576b"
                          ],
                          [
                            0.6666666666666666,
                            "#ed7953"
                          ],
                          [
                            0.7777777777777778,
                            "#fb9f3a"
                          ],
                          [
                            0.8888888888888888,
                            "#fdca26"
                          ],
                          [
                            1,
                            "#f0f921"
                          ]
                        ],
                        "type": "histogram2d"
                      }
                    ],
                    "histogram2dcontour": [
                      {
                        "colorbar": {
                          "outlinewidth": 0,
                          "ticks": ""
                        },
                        "colorscale": [
                          [
                            0,
                            "#0d0887"
                          ],
                          [
                            0.1111111111111111,
                            "#46039f"
                          ],
                          [
                            0.2222222222222222,
                            "#7201a8"
                          ],
                          [
                            0.3333333333333333,
                            "#9c179e"
                          ],
                          [
                            0.4444444444444444,
                            "#bd3786"
                          ],
                          [
                            0.5555555555555556,
                            "#d8576b"
                          ],
                          [
                            0.6666666666666666,
                            "#ed7953"
                          ],
                          [
                            0.7777777777777778,
                            "#fb9f3a"
                          ],
                          [
                            0.8888888888888888,
                            "#fdca26"
                          ],
                          [
                            1,
                            "#f0f921"
                          ]
                        ],
                        "type": "histogram2dcontour"
                      }
                    ],
                    "mesh3d": [
                      {
                        "colorbar": {
                          "outlinewidth": 0,
                          "ticks": ""
                        },
                        "type": "mesh3d"
                      }
                    ],
                    "parcoords": [
                      {
                        "line": {
                          "colorbar": {
                            "outlinewidth": 0,
                            "ticks": ""
                          }
                        },
                        "type": "parcoords"
                      }
                    ],
                    "pie": [
                      {
                        "automargin": true,
                        "type": "pie"
                      }
                    ],
                    "scatter": [
                      {
                        "fillpattern": {
                          "fillmode": "overlay",
                          "size": 10,
                          "solidity": 0.2
                        },
                        "type": "scatter"
                      }
                    ],
                    "scatter3d": [
                      {
                        "line": {
                          "colorbar": {
                            "outlinewidth": 0,
                            "ticks": ""
                          }
                        },
                        "marker": {
                          "colorbar": {
                            "outlinewidth": 0,
                            "ticks": ""
                          }
                        },
                        "type": "scatter3d"
                      }
                    ],
                    "scattercarpet": [
                      {
                        "marker": {
                          "colorbar": {
                            "outlinewidth": 0,
                            "ticks": ""
                          }
                        },
                        "type": "scattercarpet"
                      }
                    ],
                    "scattergeo": [
                      {
                        "marker": {
                          "colorbar": {
                            "outlinewidth": 0,
                            "ticks": ""
                          }
                        },
                        "type": "scattergeo"
                      }
                    ],
                    "scattergl": [
                      {
                        "marker": {
                          "colorbar": {
                            "outlinewidth": 0,
                            "ticks": ""
                          }
                        },
                        "type": "scattergl"
                      }
                    ],
                    "scattermapbox": [
                      {
                        "marker": {
                          "colorbar": {
                            "outlinewidth": 0,
                            "ticks": ""
                          }
                        },
                        "type": "scattermapbox"
                      }
                    ],
                    "scatterpolar": [
                      {
                        "marker": {
                          "colorbar": {
                            "outlinewidth": 0,
                            "ticks": ""
                          }
                        },
                        "type": "scatterpolar"
                      }
                    ],
                    "scatterpolargl": [
                      {
                        "marker": {
                          "colorbar": {
                            "outlinewidth": 0,
                            "ticks": ""
                          }
                        },
                        "type": "scatterpolargl"
                      }
                    ],
                    "scatterternary": [
                      {
                        "marker": {
                          "colorbar": {
                            "outlinewidth": 0,
                            "ticks": ""
                          }
                        },
                        "type": "scatterternary"
                      }
                    ],
                    "surface": [
                      {
                        "colorbar": {
                          "outlinewidth": 0,
                          "ticks": ""
                        },
                        "colorscale": [
                          [
                            0,
                            "#0d0887"
                          ],
                          [
                            0.1111111111111111,
                            "#46039f"
                          ],
                          [
                            0.2222222222222222,
                            "#7201a8"
                          ],
                          [
                            0.3333333333333333,
                            "#9c179e"
                          ],
                          [
                            0.4444444444444444,
                            "#bd3786"
                          ],
                          [
                            0.5555555555555556,
                            "#d8576b"
                          ],
                          [
                            0.6666666666666666,
                            "#ed7953"
                          ],
                          [
                            0.7777777777777778,
                            "#fb9f3a"
                          ],
                          [
                            0.8888888888888888,
                            "#fdca26"
                          ],
                          [
                            1,
                            "#f0f921"
                          ]
                        ],
                        "type": "surface"
                      }
                    ],
                    "table": [
                      {
                        "cells": {
                          "fill": {
                            "color": "#EBF0F8"
                          },
                          "line": {
                            "color": "white"
                          }
                        },
                        "header": {
                          "fill": {
                            "color": "#C8D4E3"
                          },
                          "line": {
                            "color": "white"
                          }
                        },
                        "type": "table"
                      }
                    ]
                  },
                  "layout": {
                    "annotationdefaults": {
                      "arrowcolor": "#2a3f5f",
                      "arrowhead": 0,
                      "arrowwidth": 1
                    },
                    "autotypenumbers": "strict",
                    "coloraxis": {
                      "colorbar": {
                        "outlinewidth": 0,
                        "ticks": ""
                      }
                    },
                    "colorscale": {
                      "diverging": [
                        [
                          0,
                          "#8e0152"
                        ],
                        [
                          0.1,
                          "#c51b7d"
                        ],
                        [
                          0.2,
                          "#de77ae"
                        ],
                        [
                          0.3,
                          "#f1b6da"
                        ],
                        [
                          0.4,
                          "#fde0ef"
                        ],
                        [
                          0.5,
                          "#f7f7f7"
                        ],
                        [
                          0.6,
                          "#e6f5d0"
                        ],
                        [
                          0.7,
                          "#b8e186"
                        ],
                        [
                          0.8,
                          "#7fbc41"
                        ],
                        [
                          0.9,
                          "#4d9221"
                        ],
                        [
                          1,
                          "#276419"
                        ]
                      ],
                      "sequential": [
                        [
                          0,
                          "#0d0887"
                        ],
                        [
                          0.1111111111111111,
                          "#46039f"
                        ],
                        [
                          0.2222222222222222,
                          "#7201a8"
                        ],
                        [
                          0.3333333333333333,
                          "#9c179e"
                        ],
                        [
                          0.4444444444444444,
                          "#bd3786"
                        ],
                        [
                          0.5555555555555556,
                          "#d8576b"
                        ],
                        [
                          0.6666666666666666,
                          "#ed7953"
                        ],
                        [
                          0.7777777777777778,
                          "#fb9f3a"
                        ],
                        [
                          0.8888888888888888,
                          "#fdca26"
                        ],
                        [
                          1,
                          "#f0f921"
                        ]
                      ],
                      "sequentialminus": [
                        [
                          0,
                          "#0d0887"
                        ],
                        [
                          0.1111111111111111,
                          "#46039f"
                        ],
                        [
                          0.2222222222222222,
                          "#7201a8"
                        ],
                        [
                          0.3333333333333333,
                          "#9c179e"
                        ],
                        [
                          0.4444444444444444,
                          "#bd3786"
                        ],
                        [
                          0.5555555555555556,
                          "#d8576b"
                        ],
                        [
                          0.6666666666666666,
                          "#ed7953"
                        ],
                        [
                          0.7777777777777778,
                          "#fb9f3a"
                        ],
                        [
                          0.8888888888888888,
                          "#fdca26"
                        ],
                        [
                          1,
                          "#f0f921"
                        ]
                      ]
                    },
                    "colorway": [
                      "#636efa",
                      "#EF553B",
                      "#00cc96",
                      "#ab63fa",
                      "#FFA15A",
                      "#19d3f3",
                      "#FF6692",
                      "#B6E880",
                      "#FF97FF",
                      "#FECB52"
                    ],
                    "font": {
                      "color": "#2a3f5f"
                    },
                    "geo": {
                      "bgcolor": "white",
                      "lakecolor": "white",
                      "landcolor": "#E5ECF6",
                      "showlakes": true,
                      "showland": true,
                      "subunitcolor": "white"
                    },
                    "hoverlabel": {
                      "align": "left"
                    },
                    "hovermode": "closest",
                    "mapbox": {
                      "style": "light"
                    },
                    "paper_bgcolor": "white",
                    "plot_bgcolor": "#E5ECF6",
                    "polar": {
                      "angularaxis": {
                        "gridcolor": "white",
                        "linecolor": "white",
                        "ticks": ""
                      },
                      "bgcolor": "#E5ECF6",
                      "radialaxis": {
                        "gridcolor": "white",
                        "linecolor": "white",
                        "ticks": ""
                      }
                    },
                    "scene": {
                      "xaxis": {
                        "backgroundcolor": "#E5ECF6",
                        "gridcolor": "white",
                        "gridwidth": 2,
                        "linecolor": "white",
                        "showbackground": true,
                        "ticks": "",
                        "zerolinecolor": "white"
                      },
                      "yaxis": {
                        "backgroundcolor": "#E5ECF6",
                        "gridcolor": "white",
                        "gridwidth": 2,
                        "linecolor": "white",
                        "showbackground": true,
                        "ticks": "",
                        "zerolinecolor": "white"
                      },
                      "zaxis": {
                        "backgroundcolor": "#E5ECF6",
                        "gridcolor": "white",
                        "gridwidth": 2,
                        "linecolor": "white",
                        "showbackground": true,
                        "ticks": "",
                        "zerolinecolor": "white"
                      }
                    },
                    "shapedefaults": {
                      "line": {
                        "color": "#2a3f5f"
                      }
                    },
                    "ternary": {
                      "aaxis": {
                        "gridcolor": "white",
                        "linecolor": "white",
                        "ticks": ""
                      },
                      "baxis": {
                        "gridcolor": "white",
                        "linecolor": "white",
                        "ticks": ""
                      },
                      "bgcolor": "#E5ECF6",
                      "caxis": {
                        "gridcolor": "white",
                        "linecolor": "white",
                        "ticks": ""
                      }
                    },
                    "title": {
                      "x": 0.05
                    },
                    "xaxis": {
                      "automargin": true,
                      "gridcolor": "white",
                      "linecolor": "white",
                      "ticks": "",
                      "title": {
                        "standoff": 15
                      },
                      "zerolinecolor": "white",
                      "zerolinewidth": 2
                    },
                    "yaxis": {
                      "automargin": true,
                      "gridcolor": "white",
                      "linecolor": "white",
                      "ticks": "",
                      "title": {
                        "standoff": 15
                      },
                      "zerolinecolor": "white",
                      "zerolinewidth": 2
                    }
                  }
                }
              }
            }
          },
          "metadata": {},
          "output_type": "display_data"
        }
      ],
      "source": [
        "#Conjunto de Datos\n",
        "X, y = make_blobs(n_samples=100, n_features=3, centers=2, cluster_std =1.1, random_state=0)\n",
        "fig = px.scatter_3d(x=X[:,0], y=X[:,1], z=X[:,2],\n",
        "              color=[str(i) for i in y])\n",
        "fig.show()"
      ]
    }
  ],
  "metadata": {
    "colab": {
      "provenance": []
    },
    "kernelspec": {
      "display_name": "Python 3.10.8 64-bit",
      "language": "python",
      "name": "python3"
    },
    "language_info": {
      "codemirror_mode": {
        "name": "ipython",
        "version": 3
      },
      "file_extension": ".py",
      "mimetype": "text/x-python",
      "name": "python",
      "nbconvert_exporter": "python",
      "pygments_lexer": "ipython3",
      "version": "3.10.8"
    },
    "vscode": {
      "interpreter": {
        "hash": "2a00e90e6e292990a44702b6bae13fe7b3b01e197e28a6517e6d88614134219c"
      }
    }
  },
  "nbformat": 4,
  "nbformat_minor": 0
}
